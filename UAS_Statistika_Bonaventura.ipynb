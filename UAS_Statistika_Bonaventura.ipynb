{
  "nbformat": 4,
  "nbformat_minor": 0,
  "metadata": {
    "colab": {
      "provenance": [],
      "toc_visible": true
    },
    "kernelspec": {
      "name": "python3",
      "display_name": "Python 3"
    },
    "language_info": {
      "name": "python"
    }
  },
  "cells": [
    {
      "cell_type": "markdown",
      "source": [
        "### Nama : Bonaventura Johan P.\n",
        "### NIM  : 202004560022\n",
        "### FSG102 - Statistika Ilmu Data"
      ],
      "metadata": {
        "id": "jUzFXbnaEzNX"
      }
    },
    {
      "cell_type": "code",
      "execution_count": null,
      "metadata": {
        "id": "bs6LqXUu5AIk"
      },
      "outputs": [],
      "source": [
        "import pandas as pd\n",
        "import matplotlib.pyplot as plt\n",
        "import numpy as np\n",
        "import seaborn as sns\n",
        "from sklearn.linear_model import LinearRegression\n",
        "from sklearn.model_selection import train_test_split\n",
        "from scipy import stats"
      ]
    },
    {
      "cell_type": "code",
      "source": [
        "df = pd.read_csv('/content/heart.csv', encoding = 'latin1')"
      ],
      "metadata": {
        "id": "TcmYdgDW5TaC"
      },
      "execution_count": null,
      "outputs": []
    },
    {
      "cell_type": "code",
      "source": [
        "df.head(6)"
      ],
      "metadata": {
        "colab": {
          "base_uri": "https://localhost:8080/",
          "height": 301
        },
        "id": "cPdSjRGq5wKc",
        "outputId": "a4e6c9d6-4036-4c1c-8776-e2f359ddd64e"
      },
      "execution_count": null,
      "outputs": [
        {
          "output_type": "execute_result",
          "data": {
            "text/html": [
              "\n",
              "  <div id=\"df-7db869f4-d345-48b6-8ec4-f207b08c7b7c\">\n",
              "    <div class=\"colab-df-container\">\n",
              "      <div>\n",
              "<style scoped>\n",
              "    .dataframe tbody tr th:only-of-type {\n",
              "        vertical-align: middle;\n",
              "    }\n",
              "\n",
              "    .dataframe tbody tr th {\n",
              "        vertical-align: top;\n",
              "    }\n",
              "\n",
              "    .dataframe thead th {\n",
              "        text-align: right;\n",
              "    }\n",
              "</style>\n",
              "<table border=\"1\" class=\"dataframe\">\n",
              "  <thead>\n",
              "    <tr style=\"text-align: right;\">\n",
              "      <th></th>\n",
              "      <th>Age</th>\n",
              "      <th>Sex</th>\n",
              "      <th>ChestPainType</th>\n",
              "      <th>RestingBP</th>\n",
              "      <th>Cholesterol</th>\n",
              "      <th>FastingBS</th>\n",
              "      <th>RestingECG</th>\n",
              "      <th>MaxHR</th>\n",
              "      <th>ExerciseAngina</th>\n",
              "      <th>Oldpeak</th>\n",
              "      <th>ST_Slope</th>\n",
              "      <th>HeartDisease</th>\n",
              "    </tr>\n",
              "  </thead>\n",
              "  <tbody>\n",
              "    <tr>\n",
              "      <th>0</th>\n",
              "      <td>40</td>\n",
              "      <td>M</td>\n",
              "      <td>ATA</td>\n",
              "      <td>140</td>\n",
              "      <td>289</td>\n",
              "      <td>0</td>\n",
              "      <td>Normal</td>\n",
              "      <td>172</td>\n",
              "      <td>N</td>\n",
              "      <td>0.0</td>\n",
              "      <td>Up</td>\n",
              "      <td>0</td>\n",
              "    </tr>\n",
              "    <tr>\n",
              "      <th>1</th>\n",
              "      <td>49</td>\n",
              "      <td>F</td>\n",
              "      <td>NAP</td>\n",
              "      <td>160</td>\n",
              "      <td>180</td>\n",
              "      <td>0</td>\n",
              "      <td>Normal</td>\n",
              "      <td>156</td>\n",
              "      <td>N</td>\n",
              "      <td>1.0</td>\n",
              "      <td>Flat</td>\n",
              "      <td>1</td>\n",
              "    </tr>\n",
              "    <tr>\n",
              "      <th>2</th>\n",
              "      <td>37</td>\n",
              "      <td>M</td>\n",
              "      <td>ATA</td>\n",
              "      <td>130</td>\n",
              "      <td>283</td>\n",
              "      <td>0</td>\n",
              "      <td>ST</td>\n",
              "      <td>98</td>\n",
              "      <td>N</td>\n",
              "      <td>0.0</td>\n",
              "      <td>Up</td>\n",
              "      <td>0</td>\n",
              "    </tr>\n",
              "    <tr>\n",
              "      <th>3</th>\n",
              "      <td>48</td>\n",
              "      <td>F</td>\n",
              "      <td>ASY</td>\n",
              "      <td>138</td>\n",
              "      <td>214</td>\n",
              "      <td>0</td>\n",
              "      <td>Normal</td>\n",
              "      <td>108</td>\n",
              "      <td>Y</td>\n",
              "      <td>1.5</td>\n",
              "      <td>Flat</td>\n",
              "      <td>1</td>\n",
              "    </tr>\n",
              "    <tr>\n",
              "      <th>4</th>\n",
              "      <td>54</td>\n",
              "      <td>M</td>\n",
              "      <td>NAP</td>\n",
              "      <td>150</td>\n",
              "      <td>195</td>\n",
              "      <td>0</td>\n",
              "      <td>Normal</td>\n",
              "      <td>122</td>\n",
              "      <td>N</td>\n",
              "      <td>0.0</td>\n",
              "      <td>Up</td>\n",
              "      <td>0</td>\n",
              "    </tr>\n",
              "    <tr>\n",
              "      <th>5</th>\n",
              "      <td>39</td>\n",
              "      <td>M</td>\n",
              "      <td>NAP</td>\n",
              "      <td>120</td>\n",
              "      <td>339</td>\n",
              "      <td>0</td>\n",
              "      <td>Normal</td>\n",
              "      <td>170</td>\n",
              "      <td>N</td>\n",
              "      <td>0.0</td>\n",
              "      <td>Up</td>\n",
              "      <td>0</td>\n",
              "    </tr>\n",
              "  </tbody>\n",
              "</table>\n",
              "</div>\n",
              "      <button class=\"colab-df-convert\" onclick=\"convertToInteractive('df-7db869f4-d345-48b6-8ec4-f207b08c7b7c')\"\n",
              "              title=\"Convert this dataframe to an interactive table.\"\n",
              "              style=\"display:none;\">\n",
              "        \n",
              "  <svg xmlns=\"http://www.w3.org/2000/svg\" height=\"24px\"viewBox=\"0 0 24 24\"\n",
              "       width=\"24px\">\n",
              "    <path d=\"M0 0h24v24H0V0z\" fill=\"none\"/>\n",
              "    <path d=\"M18.56 5.44l.94 2.06.94-2.06 2.06-.94-2.06-.94-.94-2.06-.94 2.06-2.06.94zm-11 1L8.5 8.5l.94-2.06 2.06-.94-2.06-.94L8.5 2.5l-.94 2.06-2.06.94zm10 10l.94 2.06.94-2.06 2.06-.94-2.06-.94-.94-2.06-.94 2.06-2.06.94z\"/><path d=\"M17.41 7.96l-1.37-1.37c-.4-.4-.92-.59-1.43-.59-.52 0-1.04.2-1.43.59L10.3 9.45l-7.72 7.72c-.78.78-.78 2.05 0 2.83L4 21.41c.39.39.9.59 1.41.59.51 0 1.02-.2 1.41-.59l7.78-7.78 2.81-2.81c.8-.78.8-2.07 0-2.86zM5.41 20L4 18.59l7.72-7.72 1.47 1.35L5.41 20z\"/>\n",
              "  </svg>\n",
              "      </button>\n",
              "      \n",
              "  <style>\n",
              "    .colab-df-container {\n",
              "      display:flex;\n",
              "      flex-wrap:wrap;\n",
              "      gap: 12px;\n",
              "    }\n",
              "\n",
              "    .colab-df-convert {\n",
              "      background-color: #E8F0FE;\n",
              "      border: none;\n",
              "      border-radius: 50%;\n",
              "      cursor: pointer;\n",
              "      display: none;\n",
              "      fill: #1967D2;\n",
              "      height: 32px;\n",
              "      padding: 0 0 0 0;\n",
              "      width: 32px;\n",
              "    }\n",
              "\n",
              "    .colab-df-convert:hover {\n",
              "      background-color: #E2EBFA;\n",
              "      box-shadow: 0px 1px 2px rgba(60, 64, 67, 0.3), 0px 1px 3px 1px rgba(60, 64, 67, 0.15);\n",
              "      fill: #174EA6;\n",
              "    }\n",
              "\n",
              "    [theme=dark] .colab-df-convert {\n",
              "      background-color: #3B4455;\n",
              "      fill: #D2E3FC;\n",
              "    }\n",
              "\n",
              "    [theme=dark] .colab-df-convert:hover {\n",
              "      background-color: #434B5C;\n",
              "      box-shadow: 0px 1px 3px 1px rgba(0, 0, 0, 0.15);\n",
              "      filter: drop-shadow(0px 1px 2px rgba(0, 0, 0, 0.3));\n",
              "      fill: #FFFFFF;\n",
              "    }\n",
              "  </style>\n",
              "\n",
              "      <script>\n",
              "        const buttonEl =\n",
              "          document.querySelector('#df-7db869f4-d345-48b6-8ec4-f207b08c7b7c button.colab-df-convert');\n",
              "        buttonEl.style.display =\n",
              "          google.colab.kernel.accessAllowed ? 'block' : 'none';\n",
              "\n",
              "        async function convertToInteractive(key) {\n",
              "          const element = document.querySelector('#df-7db869f4-d345-48b6-8ec4-f207b08c7b7c');\n",
              "          const dataTable =\n",
              "            await google.colab.kernel.invokeFunction('convertToInteractive',\n",
              "                                                     [key], {});\n",
              "          if (!dataTable) return;\n",
              "\n",
              "          const docLinkHtml = 'Like what you see? Visit the ' +\n",
              "            '<a target=\"_blank\" href=https://colab.research.google.com/notebooks/data_table.ipynb>data table notebook</a>'\n",
              "            + ' to learn more about interactive tables.';\n",
              "          element.innerHTML = '';\n",
              "          dataTable['output_type'] = 'display_data';\n",
              "          await google.colab.output.renderOutput(dataTable, element);\n",
              "          const docLink = document.createElement('div');\n",
              "          docLink.innerHTML = docLinkHtml;\n",
              "          element.appendChild(docLink);\n",
              "        }\n",
              "      </script>\n",
              "    </div>\n",
              "  </div>\n",
              "  "
            ],
            "text/plain": [
              "   Age Sex ChestPainType  ...  Oldpeak  ST_Slope  HeartDisease\n",
              "0   40   M           ATA  ...      0.0        Up             0\n",
              "1   49   F           NAP  ...      1.0      Flat             1\n",
              "2   37   M           ATA  ...      0.0        Up             0\n",
              "3   48   F           ASY  ...      1.5      Flat             1\n",
              "4   54   M           NAP  ...      0.0        Up             0\n",
              "5   39   M           NAP  ...      0.0        Up             0\n",
              "\n",
              "[6 rows x 12 columns]"
            ]
          },
          "metadata": {},
          "execution_count": 3
        }
      ]
    },
    {
      "cell_type": "code",
      "source": [
        "df.info()"
      ],
      "metadata": {
        "colab": {
          "base_uri": "https://localhost:8080/"
        },
        "id": "g2ErtgR153I6",
        "outputId": "1ac0b15c-5fc5-49ad-ffc3-b2f6be66d295"
      },
      "execution_count": null,
      "outputs": [
        {
          "output_type": "stream",
          "name": "stdout",
          "text": [
            "<class 'pandas.core.frame.DataFrame'>\n",
            "RangeIndex: 918 entries, 0 to 917\n",
            "Data columns (total 12 columns):\n",
            " #   Column          Non-Null Count  Dtype  \n",
            "---  ------          --------------  -----  \n",
            " 0   Age             918 non-null    int64  \n",
            " 1   Sex             918 non-null    object \n",
            " 2   ChestPainType   918 non-null    object \n",
            " 3   RestingBP       918 non-null    int64  \n",
            " 4   Cholesterol     918 non-null    int64  \n",
            " 5   FastingBS       918 non-null    int64  \n",
            " 6   RestingECG      918 non-null    object \n",
            " 7   MaxHR           918 non-null    int64  \n",
            " 8   ExerciseAngina  918 non-null    object \n",
            " 9   Oldpeak         918 non-null    float64\n",
            " 10  ST_Slope        918 non-null    object \n",
            " 11  HeartDisease    918 non-null    int64  \n",
            "dtypes: float64(1), int64(6), object(5)\n",
            "memory usage: 86.2+ KB\n"
          ]
        }
      ]
    },
    {
      "cell_type": "code",
      "source": [
        "df.shape"
      ],
      "metadata": {
        "colab": {
          "base_uri": "https://localhost:8080/"
        },
        "id": "1Ngkr7bhOLl2",
        "outputId": "c190d244-bf4e-437b-fc0a-4cefdcab3eb4"
      },
      "execution_count": null,
      "outputs": [
        {
          "output_type": "execute_result",
          "data": {
            "text/plain": [
              "(918, 12)"
            ]
          },
          "metadata": {},
          "execution_count": 26
        }
      ]
    },
    {
      "cell_type": "code",
      "source": [
        "df.isnull().sum()"
      ],
      "metadata": {
        "colab": {
          "base_uri": "https://localhost:8080/"
        },
        "id": "eMO9IaDl58X5",
        "outputId": "cfbfa85f-a6c4-45e2-e251-bf6e92442f4e"
      },
      "execution_count": null,
      "outputs": [
        {
          "output_type": "execute_result",
          "data": {
            "text/plain": [
              "Age               0\n",
              "Sex               0\n",
              "ChestPainType     0\n",
              "RestingBP         0\n",
              "Cholesterol       0\n",
              "FastingBS         0\n",
              "RestingECG        0\n",
              "MaxHR             0\n",
              "ExerciseAngina    0\n",
              "Oldpeak           0\n",
              "ST_Slope          0\n",
              "HeartDisease      0\n",
              "dtype: int64"
            ]
          },
          "metadata": {},
          "execution_count": 5
        }
      ]
    },
    {
      "cell_type": "code",
      "source": [
        "df.describe()"
      ],
      "metadata": {
        "colab": {
          "base_uri": "https://localhost:8080/",
          "height": 300
        },
        "id": "yZVolxGK6JP0",
        "outputId": "3f66e125-b1cb-4122-eb19-ed61bf02f042"
      },
      "execution_count": null,
      "outputs": [
        {
          "output_type": "execute_result",
          "data": {
            "text/html": [
              "\n",
              "  <div id=\"df-542c626a-48f5-4d2d-95ee-0e63a396263c\">\n",
              "    <div class=\"colab-df-container\">\n",
              "      <div>\n",
              "<style scoped>\n",
              "    .dataframe tbody tr th:only-of-type {\n",
              "        vertical-align: middle;\n",
              "    }\n",
              "\n",
              "    .dataframe tbody tr th {\n",
              "        vertical-align: top;\n",
              "    }\n",
              "\n",
              "    .dataframe thead th {\n",
              "        text-align: right;\n",
              "    }\n",
              "</style>\n",
              "<table border=\"1\" class=\"dataframe\">\n",
              "  <thead>\n",
              "    <tr style=\"text-align: right;\">\n",
              "      <th></th>\n",
              "      <th>Age</th>\n",
              "      <th>RestingBP</th>\n",
              "      <th>Cholesterol</th>\n",
              "      <th>FastingBS</th>\n",
              "      <th>MaxHR</th>\n",
              "      <th>Oldpeak</th>\n",
              "      <th>HeartDisease</th>\n",
              "    </tr>\n",
              "  </thead>\n",
              "  <tbody>\n",
              "    <tr>\n",
              "      <th>count</th>\n",
              "      <td>918.000000</td>\n",
              "      <td>918.000000</td>\n",
              "      <td>918.000000</td>\n",
              "      <td>918.000000</td>\n",
              "      <td>918.000000</td>\n",
              "      <td>918.000000</td>\n",
              "      <td>918.000000</td>\n",
              "    </tr>\n",
              "    <tr>\n",
              "      <th>mean</th>\n",
              "      <td>53.510893</td>\n",
              "      <td>132.396514</td>\n",
              "      <td>198.799564</td>\n",
              "      <td>0.233115</td>\n",
              "      <td>136.809368</td>\n",
              "      <td>0.887364</td>\n",
              "      <td>0.553377</td>\n",
              "    </tr>\n",
              "    <tr>\n",
              "      <th>std</th>\n",
              "      <td>9.432617</td>\n",
              "      <td>18.514154</td>\n",
              "      <td>109.384145</td>\n",
              "      <td>0.423046</td>\n",
              "      <td>25.460334</td>\n",
              "      <td>1.066570</td>\n",
              "      <td>0.497414</td>\n",
              "    </tr>\n",
              "    <tr>\n",
              "      <th>min</th>\n",
              "      <td>28.000000</td>\n",
              "      <td>0.000000</td>\n",
              "      <td>0.000000</td>\n",
              "      <td>0.000000</td>\n",
              "      <td>60.000000</td>\n",
              "      <td>-2.600000</td>\n",
              "      <td>0.000000</td>\n",
              "    </tr>\n",
              "    <tr>\n",
              "      <th>25%</th>\n",
              "      <td>47.000000</td>\n",
              "      <td>120.000000</td>\n",
              "      <td>173.250000</td>\n",
              "      <td>0.000000</td>\n",
              "      <td>120.000000</td>\n",
              "      <td>0.000000</td>\n",
              "      <td>0.000000</td>\n",
              "    </tr>\n",
              "    <tr>\n",
              "      <th>50%</th>\n",
              "      <td>54.000000</td>\n",
              "      <td>130.000000</td>\n",
              "      <td>223.000000</td>\n",
              "      <td>0.000000</td>\n",
              "      <td>138.000000</td>\n",
              "      <td>0.600000</td>\n",
              "      <td>1.000000</td>\n",
              "    </tr>\n",
              "    <tr>\n",
              "      <th>75%</th>\n",
              "      <td>60.000000</td>\n",
              "      <td>140.000000</td>\n",
              "      <td>267.000000</td>\n",
              "      <td>0.000000</td>\n",
              "      <td>156.000000</td>\n",
              "      <td>1.500000</td>\n",
              "      <td>1.000000</td>\n",
              "    </tr>\n",
              "    <tr>\n",
              "      <th>max</th>\n",
              "      <td>77.000000</td>\n",
              "      <td>200.000000</td>\n",
              "      <td>603.000000</td>\n",
              "      <td>1.000000</td>\n",
              "      <td>202.000000</td>\n",
              "      <td>6.200000</td>\n",
              "      <td>1.000000</td>\n",
              "    </tr>\n",
              "  </tbody>\n",
              "</table>\n",
              "</div>\n",
              "      <button class=\"colab-df-convert\" onclick=\"convertToInteractive('df-542c626a-48f5-4d2d-95ee-0e63a396263c')\"\n",
              "              title=\"Convert this dataframe to an interactive table.\"\n",
              "              style=\"display:none;\">\n",
              "        \n",
              "  <svg xmlns=\"http://www.w3.org/2000/svg\" height=\"24px\"viewBox=\"0 0 24 24\"\n",
              "       width=\"24px\">\n",
              "    <path d=\"M0 0h24v24H0V0z\" fill=\"none\"/>\n",
              "    <path d=\"M18.56 5.44l.94 2.06.94-2.06 2.06-.94-2.06-.94-.94-2.06-.94 2.06-2.06.94zm-11 1L8.5 8.5l.94-2.06 2.06-.94-2.06-.94L8.5 2.5l-.94 2.06-2.06.94zm10 10l.94 2.06.94-2.06 2.06-.94-2.06-.94-.94-2.06-.94 2.06-2.06.94z\"/><path d=\"M17.41 7.96l-1.37-1.37c-.4-.4-.92-.59-1.43-.59-.52 0-1.04.2-1.43.59L10.3 9.45l-7.72 7.72c-.78.78-.78 2.05 0 2.83L4 21.41c.39.39.9.59 1.41.59.51 0 1.02-.2 1.41-.59l7.78-7.78 2.81-2.81c.8-.78.8-2.07 0-2.86zM5.41 20L4 18.59l7.72-7.72 1.47 1.35L5.41 20z\"/>\n",
              "  </svg>\n",
              "      </button>\n",
              "      \n",
              "  <style>\n",
              "    .colab-df-container {\n",
              "      display:flex;\n",
              "      flex-wrap:wrap;\n",
              "      gap: 12px;\n",
              "    }\n",
              "\n",
              "    .colab-df-convert {\n",
              "      background-color: #E8F0FE;\n",
              "      border: none;\n",
              "      border-radius: 50%;\n",
              "      cursor: pointer;\n",
              "      display: none;\n",
              "      fill: #1967D2;\n",
              "      height: 32px;\n",
              "      padding: 0 0 0 0;\n",
              "      width: 32px;\n",
              "    }\n",
              "\n",
              "    .colab-df-convert:hover {\n",
              "      background-color: #E2EBFA;\n",
              "      box-shadow: 0px 1px 2px rgba(60, 64, 67, 0.3), 0px 1px 3px 1px rgba(60, 64, 67, 0.15);\n",
              "      fill: #174EA6;\n",
              "    }\n",
              "\n",
              "    [theme=dark] .colab-df-convert {\n",
              "      background-color: #3B4455;\n",
              "      fill: #D2E3FC;\n",
              "    }\n",
              "\n",
              "    [theme=dark] .colab-df-convert:hover {\n",
              "      background-color: #434B5C;\n",
              "      box-shadow: 0px 1px 3px 1px rgba(0, 0, 0, 0.15);\n",
              "      filter: drop-shadow(0px 1px 2px rgba(0, 0, 0, 0.3));\n",
              "      fill: #FFFFFF;\n",
              "    }\n",
              "  </style>\n",
              "\n",
              "      <script>\n",
              "        const buttonEl =\n",
              "          document.querySelector('#df-542c626a-48f5-4d2d-95ee-0e63a396263c button.colab-df-convert');\n",
              "        buttonEl.style.display =\n",
              "          google.colab.kernel.accessAllowed ? 'block' : 'none';\n",
              "\n",
              "        async function convertToInteractive(key) {\n",
              "          const element = document.querySelector('#df-542c626a-48f5-4d2d-95ee-0e63a396263c');\n",
              "          const dataTable =\n",
              "            await google.colab.kernel.invokeFunction('convertToInteractive',\n",
              "                                                     [key], {});\n",
              "          if (!dataTable) return;\n",
              "\n",
              "          const docLinkHtml = 'Like what you see? Visit the ' +\n",
              "            '<a target=\"_blank\" href=https://colab.research.google.com/notebooks/data_table.ipynb>data table notebook</a>'\n",
              "            + ' to learn more about interactive tables.';\n",
              "          element.innerHTML = '';\n",
              "          dataTable['output_type'] = 'display_data';\n",
              "          await google.colab.output.renderOutput(dataTable, element);\n",
              "          const docLink = document.createElement('div');\n",
              "          docLink.innerHTML = docLinkHtml;\n",
              "          element.appendChild(docLink);\n",
              "        }\n",
              "      </script>\n",
              "    </div>\n",
              "  </div>\n",
              "  "
            ],
            "text/plain": [
              "              Age   RestingBP  ...     Oldpeak  HeartDisease\n",
              "count  918.000000  918.000000  ...  918.000000    918.000000\n",
              "mean    53.510893  132.396514  ...    0.887364      0.553377\n",
              "std      9.432617   18.514154  ...    1.066570      0.497414\n",
              "min     28.000000    0.000000  ...   -2.600000      0.000000\n",
              "25%     47.000000  120.000000  ...    0.000000      0.000000\n",
              "50%     54.000000  130.000000  ...    0.600000      1.000000\n",
              "75%     60.000000  140.000000  ...    1.500000      1.000000\n",
              "max     77.000000  200.000000  ...    6.200000      1.000000\n",
              "\n",
              "[8 rows x 7 columns]"
            ]
          },
          "metadata": {},
          "execution_count": 6
        }
      ]
    },
    {
      "cell_type": "code",
      "source": [
        "df['HeartDisease'] = df['HeartDisease'].astype('bool')\n",
        "df['Oldpeak'] = df['Oldpeak'].astype('int')"
      ],
      "metadata": {
        "id": "zNpdpFlM6RZz"
      },
      "execution_count": null,
      "outputs": []
    },
    {
      "cell_type": "code",
      "source": [
        "dfi=df.drop(columns=['Cholesterol','MaxHR','Sex',\n",
        "                     'ChestPainType','RestingECG','ExerciseAngina','ST_Slope',\n",
        "                     ])"
      ],
      "metadata": {
        "id": "mS_VGW6m7ebU"
      },
      "execution_count": null,
      "outputs": []
    },
    {
      "cell_type": "code",
      "source": [
        "f = plt.figure(figsize=(12,4))\n",
        "\n",
        "f.add_subplot(1,2,1)\n",
        "sns.countplot(df['RestingBP'])\n",
        "\n",
        "f.add_subplot(1,2,2)\n",
        "plt.boxplot(df['RestingBP'])\n",
        "plt.show()"
      ],
      "metadata": {
        "colab": {
          "base_uri": "https://localhost:8080/",
          "height": 333
        },
        "id": "DkX_pEI0-2xQ",
        "outputId": "394c75f7-30ff-4a8e-e0d6-5b4e2f60b1c1"
      },
      "execution_count": null,
      "outputs": [
        {
          "output_type": "stream",
          "name": "stderr",
          "text": [
            "/usr/local/lib/python3.7/dist-packages/seaborn/_decorators.py:43: FutureWarning: Pass the following variable as a keyword arg: x. From version 0.12, the only valid positional argument will be `data`, and passing other arguments without an explicit keyword will result in an error or misinterpretation.\n",
            "  FutureWarning\n"
          ]
        },
        {
          "output_type": "display_data",
          "data": {
            "image/png": "[encoded data removed]",
            "text/plain": [
              "<Figure size 864x288 with 2 Axes>"
            ]
          },
          "metadata": {
            "needs_background": "light"
          }
        }
      ]
    },
    {
      "cell_type": "code",
      "source": [
        "f = plt.figure(figsize=(12,4))\n",
        "\n",
        "f.add_subplot(1,2,1)\n",
        "sns.countplot(df['FastingBS'])\n",
        "plt.show()"
      ],
      "metadata": {
        "colab": {
          "base_uri": "https://localhost:8080/",
          "height": 333
        },
        "id": "EED6pesA_FNj",
        "outputId": "872f579f-20af-4954-b593-7652ae600c27"
      },
      "execution_count": null,
      "outputs": [
        {
          "output_type": "stream",
          "name": "stderr",
          "text": [
            "/usr/local/lib/python3.7/dist-packages/seaborn/_decorators.py:43: FutureWarning: Pass the following variable as a keyword arg: x. From version 0.12, the only valid positional argument will be `data`, and passing other arguments without an explicit keyword will result in an error or misinterpretation.\n",
            "  FutureWarning\n"
          ]
        },
        {
          "output_type": "display_data",
          "data": {
            "image/png": "[encoded data removed]",
            "text/plain": [
              "<Figure size 864x288 with 1 Axes>"
            ]
          },
          "metadata": {
            "needs_background": "light"
          }
        }
      ]
    },
    {
      "cell_type": "code",
      "source": [
        "f = plt.figure(figsize=(12,4))\n",
        "\n",
        "f.add_subplot(1,2,1)\n",
        "sns.countplot(df['Oldpeak'])\n",
        "\n",
        "f.add_subplot(1,2,2)\n",
        "plt.boxplot(df['Oldpeak'])\n",
        "plt.show()"
      ],
      "metadata": {
        "colab": {
          "base_uri": "https://localhost:8080/",
          "height": 333
        },
        "id": "yEpfTnu2_N_M",
        "outputId": "8fbd67ff-af54-4ee0-f22d-c41282062914"
      },
      "execution_count": null,
      "outputs": [
        {
          "output_type": "stream",
          "name": "stderr",
          "text": [
            "/usr/local/lib/python3.7/dist-packages/seaborn/_decorators.py:43: FutureWarning: Pass the following variable as a keyword arg: x. From version 0.12, the only valid positional argument will be `data`, and passing other arguments without an explicit keyword will result in an error or misinterpretation.\n",
            "  FutureWarning\n"
          ]
        },
        {
          "output_type": "display_data",
          "data": {
            "image/png": "[encoded data removed]",
            "text/plain": [
              "<Figure size 864x288 with 2 Axes>"
            ]
          },
          "metadata": {
            "needs_background": "light"
          }
        }
      ]
    },
    {
      "cell_type": "code",
      "source": [
        "f = plt.figure(figsize=(12,4))\n",
        "\n",
        "f.add_subplot(1,2,1)\n",
        "sns.countplot(df['HeartDisease'])\n",
        "plt.show()"
      ],
      "metadata": {
        "colab": {
          "base_uri": "https://localhost:8080/",
          "height": 333
        },
        "id": "azsSpI4v_Vrs",
        "outputId": "9468dfc0-fdef-4597-d52f-8f48d2959198"
      },
      "execution_count": null,
      "outputs": [
        {
          "output_type": "stream",
          "name": "stderr",
          "text": [
            "/usr/local/lib/python3.7/dist-packages/seaborn/_decorators.py:43: FutureWarning: Pass the following variable as a keyword arg: x. From version 0.12, the only valid positional argument will be `data`, and passing other arguments without an explicit keyword will result in an error or misinterpretation.\n",
            "  FutureWarning\n"
          ]
        },
        {
          "output_type": "display_data",
          "data": {
            "image/png": "[encoded data removed]",
            "text/plain": [
              "<Figure size 864x288 with 1 Axes>"
            ]
          },
          "metadata": {
            "needs_background": "light"
          }
        }
      ]
    },
    {
      "cell_type": "code",
      "source": [
        "plt.figure(figsize=(10,8))\n",
        "sns.pairplot(data=df, x_vars=['RestingBP','FastingBS','Oldpeak','HeartDisease'], y_vars=['Age'], size=5, aspect=0.75)"
      ],
      "metadata": {
        "colab": {
          "base_uri": "https://localhost:8080/",
          "height": 372
        },
        "id": "kbIl0uYb-NJm",
        "outputId": "0b201150-db43-4970-e533-6dc427fc5389"
      },
      "execution_count": null,
      "outputs": [
        {
          "output_type": "stream",
          "name": "stderr",
          "text": [
            "/usr/local/lib/python3.7/dist-packages/seaborn/axisgrid.py:2076: UserWarning: The `size` parameter has been renamed to `height`; please update your code.\n",
            "  warnings.warn(msg, UserWarning)\n"
          ]
        },
        {
          "output_type": "execute_result",
          "data": {
            "text/plain": [
              "<seaborn.axisgrid.PairGrid at 0x7f0962012b10>"
            ]
          },
          "metadata": {},
          "execution_count": 19
        },
        {
          "output_type": "display_data",
          "data": {
            "text/plain": [
              "<Figure size 720x576 with 0 Axes>"
            ]
          },
          "metadata": {}
        },
        {
          "output_type": "display_data",
          "data": {
            "image/png": "[encoded data removed]",
            "text/plain": [
              "<Figure size 1080x360 with 4 Axes>"
            ]
          },
          "metadata": {
            "needs_background": "light"
          }
        }
      ]
    },
    {
      "cell_type": "code",
      "source": [
        "dfi.corr().style.background_gradient().set_precision(2)"
      ],
      "metadata": {
        "colab": {
          "base_uri": "https://localhost:8080/",
          "height": 206
        },
        "id": "9h_feHhb7Myy",
        "outputId": "5839e6cf-7129-4653-c592-b3b3f7707c55"
      },
      "execution_count": null,
      "outputs": [
        {
          "output_type": "execute_result",
          "data": {
            "text/html": [
              "<style  type=\"text/css\" >\n",
              "#T_d2941f96_6c6a_11ec_809b_0242ac1c0002row0_col0,#T_d2941f96_6c6a_11ec_809b_0242ac1c0002row1_col1,#T_d2941f96_6c6a_11ec_809b_0242ac1c0002row2_col2,#T_d2941f96_6c6a_11ec_809b_0242ac1c0002row3_col3,#T_d2941f96_6c6a_11ec_809b_0242ac1c0002row4_col4{\n",
              "            background-color:  #023858;\n",
              "            color:  #f1f1f1;\n",
              "        }#T_d2941f96_6c6a_11ec_809b_0242ac1c0002row0_col1,#T_d2941f96_6c6a_11ec_809b_0242ac1c0002row0_col4{\n",
              "            background-color:  #dcdaeb;\n",
              "            color:  #000000;\n",
              "        }#T_d2941f96_6c6a_11ec_809b_0242ac1c0002row0_col2{\n",
              "            background-color:  #e4e1ef;\n",
              "            color:  #000000;\n",
              "        }#T_d2941f96_6c6a_11ec_809b_0242ac1c0002row0_col3{\n",
              "            background-color:  #dedcec;\n",
              "            color:  #000000;\n",
              "        }#T_d2941f96_6c6a_11ec_809b_0242ac1c0002row1_col0{\n",
              "            background-color:  #f5eef6;\n",
              "            color:  #000000;\n",
              "        }#T_d2941f96_6c6a_11ec_809b_0242ac1c0002row1_col2,#T_d2941f96_6c6a_11ec_809b_0242ac1c0002row3_col0{\n",
              "            background-color:  #fbf3f9;\n",
              "            color:  #000000;\n",
              "        }#T_d2941f96_6c6a_11ec_809b_0242ac1c0002row1_col3{\n",
              "            background-color:  #ede7f2;\n",
              "            color:  #000000;\n",
              "        }#T_d2941f96_6c6a_11ec_809b_0242ac1c0002row1_col4,#T_d2941f96_6c6a_11ec_809b_0242ac1c0002row2_col0,#T_d2941f96_6c6a_11ec_809b_0242ac1c0002row2_col1,#T_d2941f96_6c6a_11ec_809b_0242ac1c0002row2_col3,#T_d2941f96_6c6a_11ec_809b_0242ac1c0002row3_col2{\n",
              "            background-color:  #fff7fb;\n",
              "            color:  #000000;\n",
              "        }#T_d2941f96_6c6a_11ec_809b_0242ac1c0002row2_col4{\n",
              "            background-color:  #e0deed;\n",
              "            color:  #000000;\n",
              "        }#T_d2941f96_6c6a_11ec_809b_0242ac1c0002row3_col1{\n",
              "            background-color:  #f1ebf4;\n",
              "            color:  #000000;\n",
              "        }#T_d2941f96_6c6a_11ec_809b_0242ac1c0002row3_col4{\n",
              "            background-color:  #b9c6e0;\n",
              "            color:  #000000;\n",
              "        }#T_d2941f96_6c6a_11ec_809b_0242ac1c0002row4_col0{\n",
              "            background-color:  #f0eaf4;\n",
              "            color:  #000000;\n",
              "        }#T_d2941f96_6c6a_11ec_809b_0242ac1c0002row4_col1{\n",
              "            background-color:  #f9f2f8;\n",
              "            color:  #000000;\n",
              "        }#T_d2941f96_6c6a_11ec_809b_0242ac1c0002row4_col2{\n",
              "            background-color:  #d3d4e7;\n",
              "            color:  #000000;\n",
              "        }#T_d2941f96_6c6a_11ec_809b_0242ac1c0002row4_col3{\n",
              "            background-color:  #a9bfdc;\n",
              "            color:  #000000;\n",
              "        }</style><table id=\"T_d2941f96_6c6a_11ec_809b_0242ac1c0002\" class=\"dataframe\"><thead>    <tr>        <th class=\"blank level0\" ></th>        <th class=\"col_heading level0 col0\" >Age</th>        <th class=\"col_heading level0 col1\" >RestingBP</th>        <th class=\"col_heading level0 col2\" >FastingBS</th>        <th class=\"col_heading level0 col3\" >Oldpeak</th>        <th class=\"col_heading level0 col4\" >HeartDisease</th>    </tr></thead><tbody>\n",
              "                <tr>\n",
              "                        <th id=\"T_d2941f96_6c6a_11ec_809b_0242ac1c0002level0_row0\" class=\"row_heading level0 row0\" >Age</th>\n",
              "                        <td id=\"T_d2941f96_6c6a_11ec_809b_0242ac1c0002row0_col0\" class=\"data row0 col0\" >1.00</td>\n",
              "                        <td id=\"T_d2941f96_6c6a_11ec_809b_0242ac1c0002row0_col1\" class=\"data row0 col1\" >0.25</td>\n",
              "                        <td id=\"T_d2941f96_6c6a_11ec_809b_0242ac1c0002row0_col2\" class=\"data row0 col2\" >0.20</td>\n",
              "                        <td id=\"T_d2941f96_6c6a_11ec_809b_0242ac1c0002row0_col3\" class=\"data row0 col3\" >0.22</td>\n",
              "                        <td id=\"T_d2941f96_6c6a_11ec_809b_0242ac1c0002row0_col4\" class=\"data row0 col4\" >0.28</td>\n",
              "            </tr>\n",
              "            <tr>\n",
              "                        <th id=\"T_d2941f96_6c6a_11ec_809b_0242ac1c0002level0_row1\" class=\"row_heading level0 row1\" >RestingBP</th>\n",
              "                        <td id=\"T_d2941f96_6c6a_11ec_809b_0242ac1c0002row1_col0\" class=\"data row1 col0\" >0.25</td>\n",
              "                        <td id=\"T_d2941f96_6c6a_11ec_809b_0242ac1c0002row1_col1\" class=\"data row1 col1\" >1.00</td>\n",
              "                        <td id=\"T_d2941f96_6c6a_11ec_809b_0242ac1c0002row1_col2\" class=\"data row1 col2\" >0.07</td>\n",
              "                        <td id=\"T_d2941f96_6c6a_11ec_809b_0242ac1c0002row1_col3\" class=\"data row1 col3\" >0.16</td>\n",
              "                        <td id=\"T_d2941f96_6c6a_11ec_809b_0242ac1c0002row1_col4\" class=\"data row1 col4\" >0.11</td>\n",
              "            </tr>\n",
              "            <tr>\n",
              "                        <th id=\"T_d2941f96_6c6a_11ec_809b_0242ac1c0002level0_row2\" class=\"row_heading level0 row2\" >FastingBS</th>\n",
              "                        <td id=\"T_d2941f96_6c6a_11ec_809b_0242ac1c0002row2_col0\" class=\"data row2 col0\" >0.20</td>\n",
              "                        <td id=\"T_d2941f96_6c6a_11ec_809b_0242ac1c0002row2_col1\" class=\"data row2 col1\" >0.07</td>\n",
              "                        <td id=\"T_d2941f96_6c6a_11ec_809b_0242ac1c0002row2_col2\" class=\"data row2 col2\" >1.00</td>\n",
              "                        <td id=\"T_d2941f96_6c6a_11ec_809b_0242ac1c0002row2_col3\" class=\"data row2 col3\" >0.04</td>\n",
              "                        <td id=\"T_d2941f96_6c6a_11ec_809b_0242ac1c0002row2_col4\" class=\"data row2 col4\" >0.27</td>\n",
              "            </tr>\n",
              "            <tr>\n",
              "                        <th id=\"T_d2941f96_6c6a_11ec_809b_0242ac1c0002level0_row3\" class=\"row_heading level0 row3\" >Oldpeak</th>\n",
              "                        <td id=\"T_d2941f96_6c6a_11ec_809b_0242ac1c0002row3_col0\" class=\"data row3 col0\" >0.22</td>\n",
              "                        <td id=\"T_d2941f96_6c6a_11ec_809b_0242ac1c0002row3_col1\" class=\"data row3 col1\" >0.16</td>\n",
              "                        <td id=\"T_d2941f96_6c6a_11ec_809b_0242ac1c0002row3_col2\" class=\"data row3 col2\" >0.04</td>\n",
              "                        <td id=\"T_d2941f96_6c6a_11ec_809b_0242ac1c0002row3_col3\" class=\"data row3 col3\" >1.00</td>\n",
              "                        <td id=\"T_d2941f96_6c6a_11ec_809b_0242ac1c0002row3_col4\" class=\"data row3 col4\" >0.39</td>\n",
              "            </tr>\n",
              "            <tr>\n",
              "                        <th id=\"T_d2941f96_6c6a_11ec_809b_0242ac1c0002level0_row4\" class=\"row_heading level0 row4\" >HeartDisease</th>\n",
              "                        <td id=\"T_d2941f96_6c6a_11ec_809b_0242ac1c0002row4_col0\" class=\"data row4 col0\" >0.28</td>\n",
              "                        <td id=\"T_d2941f96_6c6a_11ec_809b_0242ac1c0002row4_col1\" class=\"data row4 col1\" >0.11</td>\n",
              "                        <td id=\"T_d2941f96_6c6a_11ec_809b_0242ac1c0002row4_col2\" class=\"data row4 col2\" >0.27</td>\n",
              "                        <td id=\"T_d2941f96_6c6a_11ec_809b_0242ac1c0002row4_col3\" class=\"data row4 col3\" >0.39</td>\n",
              "                        <td id=\"T_d2941f96_6c6a_11ec_809b_0242ac1c0002row4_col4\" class=\"data row4 col4\" >1.00</td>\n",
              "            </tr>\n",
              "    </tbody></table>"
            ],
            "text/plain": [
              "<pandas.io.formats.style.Styler at 0x7f097093c590>"
            ]
          },
          "metadata": {},
          "execution_count": 10
        }
      ]
    },
    {
      "cell_type": "code",
      "source": [
        "corr = stats.pearsonr(dfi[\"RestingBP\"], df[\"Age\"])\n",
        "print(\"p-value:\\t\", corr[1])\n",
        "print(\"corr:\\t\\t\", corr[0])"
      ],
      "metadata": {
        "colab": {
          "base_uri": "https://localhost:8080/"
        },
        "id": "wr-kPVFF8dRL",
        "outputId": "30cb4ead-525e-48dd-ceae-e0c599b75fd7"
      },
      "execution_count": null,
      "outputs": [
        {
          "output_type": "stream",
          "name": "stdout",
          "text": [
            "p-value:\t 5.0147697437822694e-15\n",
            "corr:\t\t 0.2543993561515448\n"
          ]
        }
      ]
    },
    {
      "cell_type": "code",
      "source": [
        "corr = stats.pearsonr(dfi[\"FastingBS\"], df[\"Age\"])\n",
        "print(\"p-value:\\t\", corr[1])\n",
        "print(\"corr:\\t\\t\", corr[0])"
      ],
      "metadata": {
        "colab": {
          "base_uri": "https://localhost:8080/"
        },
        "id": "ObG65YiR87Y9",
        "outputId": "1910f549-e604-4b68-deb1-9bba53a98a4e"
      },
      "execution_count": null,
      "outputs": [
        {
          "output_type": "stream",
          "name": "stdout",
          "text": [
            "p-value:\t 1.429221125981253e-09\n",
            "corr:\t\t 0.19803906586674372\n"
          ]
        }
      ]
    },
    {
      "cell_type": "code",
      "source": [
        "corr = stats.pearsonr(dfi[\"Oldpeak\"], df[\"Age\"])\n",
        "print(\"p-value:\\t\", corr[1])\n",
        "print(\"corr:\\t\\t\", corr[0])"
      ],
      "metadata": {
        "colab": {
          "base_uri": "https://localhost:8080/"
        },
        "id": "9_SOjpkm9Ex2",
        "outputId": "540d6192-db5d-4071-d8c0-292c8c086945"
      },
      "execution_count": null,
      "outputs": [
        {
          "output_type": "stream",
          "name": "stdout",
          "text": [
            "p-value:\t 1.0059715158746004e-11\n",
            "corr:\t\t 0.22211088901371448\n"
          ]
        }
      ]
    },
    {
      "cell_type": "code",
      "source": [
        "corr = stats.pearsonr(dfi[\"HeartDisease\"], df[\"Age\"])\n",
        "print(\"p-value:\\t\", corr[1])\n",
        "print(\"corr:\\t\\t\", corr[0])"
      ],
      "metadata": {
        "colab": {
          "base_uri": "https://localhost:8080/"
        },
        "id": "PAnbMFys9Kq4",
        "outputId": "2afdc2b1-0f7b-461c-80d1-f4c746bc6031"
      },
      "execution_count": null,
      "outputs": [
        {
          "output_type": "stream",
          "name": "stdout",
          "text": [
            "p-value:\t 3.0079532400474652e-18\n",
            "corr:\t\t 0.28203850581899725\n"
          ]
        }
      ]
    },
    {
      "cell_type": "code",
      "source": [
        "x = dfi.drop(columns= ['Age'])\n",
        "y = dfi['Age']\n",
        "\n",
        "x_train, x_test, y_train, y_test = train_test_split(x,y, test_size=0.2, random_state=4)\n",
        "\n",
        "lin_reg = LinearRegression()\n",
        "\n",
        "lin_reg.fit(x_train, y_train)\n",
        "\n",
        "print(lin_reg.coef_)\n",
        "print(lin_reg.intercept_)"
      ],
      "metadata": {
        "colab": {
          "base_uri": "https://localhost:8080/"
        },
        "id": "uy9tmWcb9Tij",
        "outputId": "53f8b623-37e9-4bf2-9e4d-aff1adec44fb"
      },
      "execution_count": null,
      "outputs": [
        {
          "output_type": "stream",
          "name": "stdout",
          "text": [
            "[0.09973791 2.64567628 1.07393759 3.58420334]\n",
            "37.07505051726604\n"
          ]
        }
      ]
    },
    {
      "cell_type": "code",
      "source": [
        "lin_reg.score(x_test, y_test)"
      ],
      "metadata": {
        "colab": {
          "base_uri": "https://localhost:8080/"
        },
        "id": "p06_xj5K97gl",
        "outputId": "1c5e19f2-8122-43d5-f4c9-2e79b95ada29"
      },
      "execution_count": null,
      "outputs": [
        {
          "output_type": "execute_result",
          "data": {
            "text/plain": [
              "0.18108439657225173"
            ]
          },
          "metadata": {},
          "execution_count": 17
        }
      ]
    }
  ]
}